{
 "cells": [
  {
   "cell_type": "markdown",
   "id": "c3032da0",
   "metadata": {
    "papermill": {
     "duration": 0.009455,
     "end_time": "2022-07-24T17:44:46.876038",
     "exception": false,
     "start_time": "2022-07-24T17:44:46.866583",
     "status": "completed"
    },
    "tags": []
   },
   "source": [
    "**This notebook is an exercise in the [Intermediate Machine Learning](https://www.kaggle.com/learn/intermediate-machine-learning) course.  You can reference the tutorial at [this link](https://www.kaggle.com/alexisbcook/missing-values).**\n",
    "\n",
    "---\n"
   ]
  },
  {
   "cell_type": "markdown",
   "id": "ac3b1586",
   "metadata": {
    "papermill": {
     "duration": 0.006578,
     "end_time": "2022-07-24T17:44:46.889609",
     "exception": false,
     "start_time": "2022-07-24T17:44:46.883031",
     "status": "completed"
    },
    "tags": []
   },
   "source": [
    "Now it's your turn to test your new knowledge of **missing values** handling. You'll probably find it makes a big difference.\n",
    "\n",
    "# Setup\n",
    "\n",
    "The questions will give you feedback on your work. Run the following cell to set up the feedback system."
   ]
  },
  {
   "cell_type": "code",
   "execution_count": 1,
   "id": "951914a0",
   "metadata": {
    "execution": {
     "iopub.execute_input": "2022-07-24T17:44:46.905268Z",
     "iopub.status.busy": "2022-07-24T17:44:46.904560Z",
     "iopub.status.idle": "2022-07-24T17:44:46.959581Z",
     "shell.execute_reply": "2022-07-24T17:44:46.957073Z"
    },
    "papermill": {
     "duration": 0.065703,
     "end_time": "2022-07-24T17:44:46.962146",
     "exception": false,
     "start_time": "2022-07-24T17:44:46.896443",
     "status": "completed"
    },
    "tags": []
   },
   "outputs": [
    {
     "name": "stdout",
     "output_type": "stream",
     "text": [
      "Setup Complete\n"
     ]
    }
   ],
   "source": [
    "# Set up code checking\n",
    "import os\n",
    "if not os.path.exists(\"../input/train.csv\"):\n",
    "    os.symlink(\"../input/home-data-for-ml-course/train.csv\", \"../input/train.csv\")  \n",
    "    os.symlink(\"../input/home-data-for-ml-course/test.csv\", \"../input/test.csv\") \n",
    "from learntools.core import binder\n",
    "binder.bind(globals())\n",
    "from learntools.ml_intermediate.ex2 import *\n",
    "print(\"Setup Complete\")"
   ]
  },
  {
   "cell_type": "markdown",
   "id": "a61ce605",
   "metadata": {
    "papermill": {
     "duration": 0.006939,
     "end_time": "2022-07-24T17:44:46.976349",
     "exception": false,
     "start_time": "2022-07-24T17:44:46.969410",
     "status": "completed"
    },
    "tags": []
   },
   "source": [
    "In this exercise, you will work with data from the [Housing Prices Competition for Kaggle Learn Users](https://www.kaggle.com/c/home-data-for-ml-course). \n",
    "\n",
    "![Ames Housing dataset image](https://i.imgur.com/lTJVG4e.png)\n",
    "\n",
    "Run the next code cell without changes to load the training and validation sets in `X_train`, `X_valid`, `y_train`, and `y_valid`.  The test set is loaded in `X_test`."
   ]
  },
  {
   "cell_type": "code",
   "execution_count": 2,
   "id": "4cb437c1",
   "metadata": {
    "execution": {
     "iopub.execute_input": "2022-07-24T17:44:46.992202Z",
     "iopub.status.busy": "2022-07-24T17:44:46.991516Z",
     "iopub.status.idle": "2022-07-24T17:44:48.170396Z",
     "shell.execute_reply": "2022-07-24T17:44:48.169324Z"
    },
    "papermill": {
     "duration": 1.189558,
     "end_time": "2022-07-24T17:44:48.172956",
     "exception": false,
     "start_time": "2022-07-24T17:44:46.983398",
     "status": "completed"
    },
    "tags": []
   },
   "outputs": [],
   "source": [
    "import pandas as pd\n",
    "from sklearn.model_selection import train_test_split\n",
    "\n",
    "# Read the data\n",
    "X_full = pd.read_csv('../input/train.csv', index_col='Id')\n",
    "X_test_full = pd.read_csv('../input/test.csv', index_col='Id')\n",
    "\n",
    "# Remove rows with missing target, separate target from predictors\n",
    "X_full.dropna(axis=0, subset=['SalePrice'], inplace=True)\n",
    "y = X_full.SalePrice\n",
    "X_full.drop(['SalePrice'], axis=1, inplace=True)\n",
    "\n",
    "# To keep things simple, we'll use only numerical predictors\n",
    "X = X_full.select_dtypes(exclude=['object'])\n",
    "X_test = X_test_full.select_dtypes(exclude=['object'])\n",
    "\n",
    "# Break off validation set from training data\n",
    "X_train, X_valid, y_train, y_valid = train_test_split(X, y, train_size=0.8, test_size=0.2,\n",
    "                                                      random_state=0)"
   ]
  },
  {
   "cell_type": "markdown",
   "id": "1650a573",
   "metadata": {
    "papermill": {
     "duration": 0.006673,
     "end_time": "2022-07-24T17:44:48.186814",
     "exception": false,
     "start_time": "2022-07-24T17:44:48.180141",
     "status": "completed"
    },
    "tags": []
   },
   "source": [
    "Use the next code cell to print the first five rows of the data."
   ]
  },
  {
   "cell_type": "code",
   "execution_count": 3,
   "id": "d816e777",
   "metadata": {
    "execution": {
     "iopub.execute_input": "2022-07-24T17:44:48.202468Z",
     "iopub.status.busy": "2022-07-24T17:44:48.201697Z",
     "iopub.status.idle": "2022-07-24T17:44:48.228522Z",
     "shell.execute_reply": "2022-07-24T17:44:48.227163Z"
    },
    "papermill": {
     "duration": 0.037272,
     "end_time": "2022-07-24T17:44:48.230974",
     "exception": false,
     "start_time": "2022-07-24T17:44:48.193702",
     "status": "completed"
    },
    "tags": []
   },
   "outputs": [
    {
     "data": {
      "text/html": [
       "<div>\n",
       "<style scoped>\n",
       "    .dataframe tbody tr th:only-of-type {\n",
       "        vertical-align: middle;\n",
       "    }\n",
       "\n",
       "    .dataframe tbody tr th {\n",
       "        vertical-align: top;\n",
       "    }\n",
       "\n",
       "    .dataframe thead th {\n",
       "        text-align: right;\n",
       "    }\n",
       "</style>\n",
       "<table border=\"1\" class=\"dataframe\">\n",
       "  <thead>\n",
       "    <tr style=\"text-align: right;\">\n",
       "      <th></th>\n",
       "      <th>MSSubClass</th>\n",
       "      <th>LotFrontage</th>\n",
       "      <th>LotArea</th>\n",
       "      <th>OverallQual</th>\n",
       "      <th>OverallCond</th>\n",
       "      <th>YearBuilt</th>\n",
       "      <th>YearRemodAdd</th>\n",
       "      <th>MasVnrArea</th>\n",
       "      <th>BsmtFinSF1</th>\n",
       "      <th>BsmtFinSF2</th>\n",
       "      <th>...</th>\n",
       "      <th>GarageArea</th>\n",
       "      <th>WoodDeckSF</th>\n",
       "      <th>OpenPorchSF</th>\n",
       "      <th>EnclosedPorch</th>\n",
       "      <th>3SsnPorch</th>\n",
       "      <th>ScreenPorch</th>\n",
       "      <th>PoolArea</th>\n",
       "      <th>MiscVal</th>\n",
       "      <th>MoSold</th>\n",
       "      <th>YrSold</th>\n",
       "    </tr>\n",
       "    <tr>\n",
       "      <th>Id</th>\n",
       "      <th></th>\n",
       "      <th></th>\n",
       "      <th></th>\n",
       "      <th></th>\n",
       "      <th></th>\n",
       "      <th></th>\n",
       "      <th></th>\n",
       "      <th></th>\n",
       "      <th></th>\n",
       "      <th></th>\n",
       "      <th></th>\n",
       "      <th></th>\n",
       "      <th></th>\n",
       "      <th></th>\n",
       "      <th></th>\n",
       "      <th></th>\n",
       "      <th></th>\n",
       "      <th></th>\n",
       "      <th></th>\n",
       "      <th></th>\n",
       "      <th></th>\n",
       "    </tr>\n",
       "  </thead>\n",
       "  <tbody>\n",
       "    <tr>\n",
       "      <th>619</th>\n",
       "      <td>20</td>\n",
       "      <td>90.0</td>\n",
       "      <td>11694</td>\n",
       "      <td>9</td>\n",
       "      <td>5</td>\n",
       "      <td>2007</td>\n",
       "      <td>2007</td>\n",
       "      <td>452.0</td>\n",
       "      <td>48</td>\n",
       "      <td>0</td>\n",
       "      <td>...</td>\n",
       "      <td>774</td>\n",
       "      <td>0</td>\n",
       "      <td>108</td>\n",
       "      <td>0</td>\n",
       "      <td>0</td>\n",
       "      <td>260</td>\n",
       "      <td>0</td>\n",
       "      <td>0</td>\n",
       "      <td>7</td>\n",
       "      <td>2007</td>\n",
       "    </tr>\n",
       "    <tr>\n",
       "      <th>871</th>\n",
       "      <td>20</td>\n",
       "      <td>60.0</td>\n",
       "      <td>6600</td>\n",
       "      <td>5</td>\n",
       "      <td>5</td>\n",
       "      <td>1962</td>\n",
       "      <td>1962</td>\n",
       "      <td>0.0</td>\n",
       "      <td>0</td>\n",
       "      <td>0</td>\n",
       "      <td>...</td>\n",
       "      <td>308</td>\n",
       "      <td>0</td>\n",
       "      <td>0</td>\n",
       "      <td>0</td>\n",
       "      <td>0</td>\n",
       "      <td>0</td>\n",
       "      <td>0</td>\n",
       "      <td>0</td>\n",
       "      <td>8</td>\n",
       "      <td>2009</td>\n",
       "    </tr>\n",
       "    <tr>\n",
       "      <th>93</th>\n",
       "      <td>30</td>\n",
       "      <td>80.0</td>\n",
       "      <td>13360</td>\n",
       "      <td>5</td>\n",
       "      <td>7</td>\n",
       "      <td>1921</td>\n",
       "      <td>2006</td>\n",
       "      <td>0.0</td>\n",
       "      <td>713</td>\n",
       "      <td>0</td>\n",
       "      <td>...</td>\n",
       "      <td>432</td>\n",
       "      <td>0</td>\n",
       "      <td>0</td>\n",
       "      <td>44</td>\n",
       "      <td>0</td>\n",
       "      <td>0</td>\n",
       "      <td>0</td>\n",
       "      <td>0</td>\n",
       "      <td>8</td>\n",
       "      <td>2009</td>\n",
       "    </tr>\n",
       "    <tr>\n",
       "      <th>818</th>\n",
       "      <td>20</td>\n",
       "      <td>NaN</td>\n",
       "      <td>13265</td>\n",
       "      <td>8</td>\n",
       "      <td>5</td>\n",
       "      <td>2002</td>\n",
       "      <td>2002</td>\n",
       "      <td>148.0</td>\n",
       "      <td>1218</td>\n",
       "      <td>0</td>\n",
       "      <td>...</td>\n",
       "      <td>857</td>\n",
       "      <td>150</td>\n",
       "      <td>59</td>\n",
       "      <td>0</td>\n",
       "      <td>0</td>\n",
       "      <td>0</td>\n",
       "      <td>0</td>\n",
       "      <td>0</td>\n",
       "      <td>7</td>\n",
       "      <td>2008</td>\n",
       "    </tr>\n",
       "    <tr>\n",
       "      <th>303</th>\n",
       "      <td>20</td>\n",
       "      <td>118.0</td>\n",
       "      <td>13704</td>\n",
       "      <td>7</td>\n",
       "      <td>5</td>\n",
       "      <td>2001</td>\n",
       "      <td>2002</td>\n",
       "      <td>150.0</td>\n",
       "      <td>0</td>\n",
       "      <td>0</td>\n",
       "      <td>...</td>\n",
       "      <td>843</td>\n",
       "      <td>468</td>\n",
       "      <td>81</td>\n",
       "      <td>0</td>\n",
       "      <td>0</td>\n",
       "      <td>0</td>\n",
       "      <td>0</td>\n",
       "      <td>0</td>\n",
       "      <td>1</td>\n",
       "      <td>2006</td>\n",
       "    </tr>\n",
       "  </tbody>\n",
       "</table>\n",
       "<p>5 rows × 36 columns</p>\n",
       "</div>"
      ],
      "text/plain": [
       "     MSSubClass  LotFrontage  LotArea  OverallQual  OverallCond  YearBuilt  \\\n",
       "Id                                                                           \n",
       "619          20         90.0    11694            9            5       2007   \n",
       "871          20         60.0     6600            5            5       1962   \n",
       "93           30         80.0    13360            5            7       1921   \n",
       "818          20          NaN    13265            8            5       2002   \n",
       "303          20        118.0    13704            7            5       2001   \n",
       "\n",
       "     YearRemodAdd  MasVnrArea  BsmtFinSF1  BsmtFinSF2  ...  GarageArea  \\\n",
       "Id                                                     ...               \n",
       "619          2007       452.0          48           0  ...         774   \n",
       "871          1962         0.0           0           0  ...         308   \n",
       "93           2006         0.0         713           0  ...         432   \n",
       "818          2002       148.0        1218           0  ...         857   \n",
       "303          2002       150.0           0           0  ...         843   \n",
       "\n",
       "     WoodDeckSF  OpenPorchSF  EnclosedPorch  3SsnPorch  ScreenPorch  PoolArea  \\\n",
       "Id                                                                              \n",
       "619           0          108              0          0          260         0   \n",
       "871           0            0              0          0            0         0   \n",
       "93            0            0             44          0            0         0   \n",
       "818         150           59              0          0            0         0   \n",
       "303         468           81              0          0            0         0   \n",
       "\n",
       "     MiscVal  MoSold  YrSold  \n",
       "Id                            \n",
       "619        0       7    2007  \n",
       "871        0       8    2009  \n",
       "93         0       8    2009  \n",
       "818        0       7    2008  \n",
       "303        0       1    2006  \n",
       "\n",
       "[5 rows x 36 columns]"
      ]
     },
     "execution_count": 3,
     "metadata": {},
     "output_type": "execute_result"
    }
   ],
   "source": [
    "X_train.head()"
   ]
  },
  {
   "cell_type": "markdown",
   "id": "8c655ff3",
   "metadata": {
    "papermill": {
     "duration": 0.006908,
     "end_time": "2022-07-24T17:44:48.246090",
     "exception": false,
     "start_time": "2022-07-24T17:44:48.239182",
     "status": "completed"
    },
    "tags": []
   },
   "source": [
    "You can already see a few missing values in the first several rows.  In the next step, you'll obtain a more comprehensive understanding of the missing values in the dataset.\n",
    "\n",
    "# Step 1: Preliminary investigation\n",
    "\n",
    "Run the code cell below without changes."
   ]
  },
  {
   "cell_type": "code",
   "execution_count": 4,
   "id": "a4bcbbbb",
   "metadata": {
    "execution": {
     "iopub.execute_input": "2022-07-24T17:44:48.262151Z",
     "iopub.status.busy": "2022-07-24T17:44:48.261800Z",
     "iopub.status.idle": "2022-07-24T17:44:48.269677Z",
     "shell.execute_reply": "2022-07-24T17:44:48.268542Z"
    },
    "papermill": {
     "duration": 0.018712,
     "end_time": "2022-07-24T17:44:48.271991",
     "exception": false,
     "start_time": "2022-07-24T17:44:48.253279",
     "status": "completed"
    },
    "tags": []
   },
   "outputs": [
    {
     "name": "stdout",
     "output_type": "stream",
     "text": [
      "(1168, 36)\n",
      "LotFrontage    212\n",
      "MasVnrArea       6\n",
      "GarageYrBlt     58\n",
      "dtype: int64\n"
     ]
    }
   ],
   "source": [
    "# Shape of training data (num_rows, num_columns)\n",
    "print(X_train.shape)\n",
    "\n",
    "# Number of missing values in each column of training data\n",
    "missing_val_count_by_column = (X_train.isnull().sum())\n",
    "print(missing_val_count_by_column[missing_val_count_by_column > 0])"
   ]
  },
  {
   "cell_type": "markdown",
   "id": "76baf997",
   "metadata": {
    "papermill": {
     "duration": 0.006931,
     "end_time": "2022-07-24T17:44:48.286420",
     "exception": false,
     "start_time": "2022-07-24T17:44:48.279489",
     "status": "completed"
    },
    "tags": []
   },
   "source": [
    "### Part A\n",
    "\n",
    "Use the above output to answer the questions below."
   ]
  },
  {
   "cell_type": "code",
   "execution_count": 5,
   "id": "7ad868e2",
   "metadata": {
    "execution": {
     "iopub.execute_input": "2022-07-24T17:44:48.303098Z",
     "iopub.status.busy": "2022-07-24T17:44:48.302121Z",
     "iopub.status.idle": "2022-07-24T17:44:48.311080Z",
     "shell.execute_reply": "2022-07-24T17:44:48.310144Z"
    },
    "papermill": {
     "duration": 0.019334,
     "end_time": "2022-07-24T17:44:48.313112",
     "exception": false,
     "start_time": "2022-07-24T17:44:48.293778",
     "status": "completed"
    },
    "tags": []
   },
   "outputs": [
    {
     "data": {
      "application/javascript": [
       "parent.postMessage({\"jupyterEvent\": \"custom.exercise_interaction\", \"data\": {\"outcomeType\": 1, \"valueTowardsCompletion\": 1.0, \"interactionType\": 1, \"questionType\": 1, \"questionId\": \"1.1_InvestigateEquality\", \"learnToolsVersion\": \"0.3.4\", \"failureMessage\": \"\", \"exceptionClass\": \"\", \"trace\": \"\"}}, \"*\")"
      ],
      "text/plain": [
       "<IPython.core.display.Javascript object>"
      ]
     },
     "metadata": {},
     "output_type": "display_data"
    },
    {
     "data": {
      "text/markdown": [
       "<span style=\"color:#33cc33\">Correct</span>"
      ],
      "text/plain": [
       "Correct"
      ]
     },
     "metadata": {},
     "output_type": "display_data"
    }
   ],
   "source": [
    "# Fill in the line below: How many rows are in the training data?\n",
    "num_rows = 1168\n",
    "\n",
    "# Fill in the line below: How many columns in the training data\n",
    "# have missing values?\n",
    "num_cols_with_missing = 3\n",
    "\n",
    "# Fill in the line below: How many missing entries are contained in \n",
    "# all of the training data?\n",
    "tot_missing = 212 + 6 + 58\n",
    "\n",
    "# Check your answers\n",
    "step_1.a.check()"
   ]
  },
  {
   "cell_type": "code",
   "execution_count": 6,
   "id": "d455f161",
   "metadata": {
    "execution": {
     "iopub.execute_input": "2022-07-24T17:44:48.329711Z",
     "iopub.status.busy": "2022-07-24T17:44:48.329046Z",
     "iopub.status.idle": "2022-07-24T17:44:48.333071Z",
     "shell.execute_reply": "2022-07-24T17:44:48.332268Z"
    },
    "papermill": {
     "duration": 0.014521,
     "end_time": "2022-07-24T17:44:48.335066",
     "exception": false,
     "start_time": "2022-07-24T17:44:48.320545",
     "status": "completed"
    },
    "tags": []
   },
   "outputs": [],
   "source": [
    "# Lines below will give you a hint or solution code\n",
    "#step_1.a.hint()\n",
    "#step_1.a.solution()"
   ]
  },
  {
   "cell_type": "markdown",
   "id": "d408e0dd",
   "metadata": {
    "papermill": {
     "duration": 0.007263,
     "end_time": "2022-07-24T17:44:48.349978",
     "exception": false,
     "start_time": "2022-07-24T17:44:48.342715",
     "status": "completed"
    },
    "tags": []
   },
   "source": [
    "### Part B\n",
    "Considering your answers above, what do you think is likely the best approach to dealing with the missing values?"
   ]
  },
  {
   "cell_type": "code",
   "execution_count": 7,
   "id": "dabbf887",
   "metadata": {
    "execution": {
     "iopub.execute_input": "2022-07-24T17:44:48.366895Z",
     "iopub.status.busy": "2022-07-24T17:44:48.366123Z",
     "iopub.status.idle": "2022-07-24T17:44:48.373538Z",
     "shell.execute_reply": "2022-07-24T17:44:48.372511Z"
    },
    "papermill": {
     "duration": 0.017961,
     "end_time": "2022-07-24T17:44:48.375437",
     "exception": false,
     "start_time": "2022-07-24T17:44:48.357476",
     "status": "completed"
    },
    "tags": []
   },
   "outputs": [
    {
     "data": {
      "application/javascript": [
       "parent.postMessage({\"jupyterEvent\": \"custom.exercise_interaction\", \"data\": {\"outcomeType\": 1, \"valueTowardsCompletion\": 1.0, \"interactionType\": 1, \"questionType\": 4, \"questionId\": \"1.2_InvestigateThought\", \"learnToolsVersion\": \"0.3.4\", \"failureMessage\": \"\", \"exceptionClass\": \"\", \"trace\": \"\"}}, \"*\")"
      ],
      "text/plain": [
       "<IPython.core.display.Javascript object>"
      ]
     },
     "metadata": {},
     "output_type": "display_data"
    },
    {
     "data": {
      "text/markdown": [
       "<span style=\"color:#33cc33\">Correct:</span> \n",
       "\n",
       "Since there are relatively few missing entries in the data (the column with the greatest percentage of missing values is missing less than 20% of its entries), we can expect that dropping columns is unlikely to yield good results.  This is because we'd be throwing away a lot of valuable data, and so imputation will likely perform better."
      ],
      "text/plain": [
       "Correct: \n",
       "\n",
       "Since there are relatively few missing entries in the data (the column with the greatest percentage of missing values is missing less than 20% of its entries), we can expect that dropping columns is unlikely to yield good results.  This is because we'd be throwing away a lot of valuable data, and so imputation will likely perform better."
      ]
     },
     "metadata": {},
     "output_type": "display_data"
    }
   ],
   "source": [
    "# Check your answer (Run this code cell to receive credit!)\n",
    "step_1.b.check()"
   ]
  },
  {
   "cell_type": "code",
   "execution_count": 8,
   "id": "76a9a686",
   "metadata": {
    "execution": {
     "iopub.execute_input": "2022-07-24T17:44:48.393121Z",
     "iopub.status.busy": "2022-07-24T17:44:48.392464Z",
     "iopub.status.idle": "2022-07-24T17:44:48.396663Z",
     "shell.execute_reply": "2022-07-24T17:44:48.395682Z"
    },
    "papermill": {
     "duration": 0.015372,
     "end_time": "2022-07-24T17:44:48.398760",
     "exception": false,
     "start_time": "2022-07-24T17:44:48.383388",
     "status": "completed"
    },
    "tags": []
   },
   "outputs": [],
   "source": [
    "#step_1.b.hint()"
   ]
  },
  {
   "cell_type": "markdown",
   "id": "c9b8ac42",
   "metadata": {
    "papermill": {
     "duration": 0.007599,
     "end_time": "2022-07-24T17:44:48.414563",
     "exception": false,
     "start_time": "2022-07-24T17:44:48.406964",
     "status": "completed"
    },
    "tags": []
   },
   "source": [
    "To compare different approaches to dealing with missing values, you'll use the same `score_dataset()` function from the tutorial.  This function reports the [mean absolute error](https://en.wikipedia.org/wiki/Mean_absolute_error) (MAE) from a random forest model."
   ]
  },
  {
   "cell_type": "code",
   "execution_count": 9,
   "id": "b5c7e224",
   "metadata": {
    "execution": {
     "iopub.execute_input": "2022-07-24T17:44:48.432232Z",
     "iopub.status.busy": "2022-07-24T17:44:48.431794Z",
     "iopub.status.idle": "2022-07-24T17:44:48.644436Z",
     "shell.execute_reply": "2022-07-24T17:44:48.642780Z"
    },
    "papermill": {
     "duration": 0.224748,
     "end_time": "2022-07-24T17:44:48.647163",
     "exception": false,
     "start_time": "2022-07-24T17:44:48.422415",
     "status": "completed"
    },
    "tags": []
   },
   "outputs": [],
   "source": [
    "from sklearn.ensemble import RandomForestRegressor\n",
    "from sklearn.metrics import mean_absolute_error\n",
    "\n",
    "# Function for comparing different approaches\n",
    "def score_dataset(X_train, X_valid, y_train, y_valid):\n",
    "    model = RandomForestRegressor(n_estimators=100, random_state=0)\n",
    "    model.fit(X_train, y_train)\n",
    "    preds = model.predict(X_valid)\n",
    "    return mean_absolute_error(y_valid, preds)"
   ]
  },
  {
   "cell_type": "markdown",
   "id": "8e8880a5",
   "metadata": {
    "papermill": {
     "duration": 0.00766,
     "end_time": "2022-07-24T17:44:48.662787",
     "exception": false,
     "start_time": "2022-07-24T17:44:48.655127",
     "status": "completed"
    },
    "tags": []
   },
   "source": [
    "# Step 2: Drop columns with missing values\n",
    "\n",
    "In this step, you'll preprocess the data in `X_train` and `X_valid` to remove columns with missing values.  Set the preprocessed DataFrames to `reduced_X_train` and `reduced_X_valid`, respectively.  "
   ]
  },
  {
   "cell_type": "code",
   "execution_count": 10,
   "id": "e67dd23f",
   "metadata": {
    "execution": {
     "iopub.execute_input": "2022-07-24T17:44:48.680823Z",
     "iopub.status.busy": "2022-07-24T17:44:48.680436Z",
     "iopub.status.idle": "2022-07-24T17:44:48.714146Z",
     "shell.execute_reply": "2022-07-24T17:44:48.713400Z"
    },
    "papermill": {
     "duration": 0.045307,
     "end_time": "2022-07-24T17:44:48.715943",
     "exception": false,
     "start_time": "2022-07-24T17:44:48.670636",
     "status": "completed"
    },
    "tags": []
   },
   "outputs": [
    {
     "data": {
      "application/javascript": [
       "parent.postMessage({\"jupyterEvent\": \"custom.exercise_interaction\", \"data\": {\"outcomeType\": 1, \"valueTowardsCompletion\": 1.0, \"interactionType\": 1, \"questionType\": 2, \"questionId\": \"2_DropMissing\", \"learnToolsVersion\": \"0.3.4\", \"failureMessage\": \"\", \"exceptionClass\": \"\", \"trace\": \"\"}}, \"*\")"
      ],
      "text/plain": [
       "<IPython.core.display.Javascript object>"
      ]
     },
     "metadata": {},
     "output_type": "display_data"
    },
    {
     "data": {
      "text/markdown": [
       "<span style=\"color:#33cc33\">Correct</span>"
      ],
      "text/plain": [
       "Correct"
      ]
     },
     "metadata": {},
     "output_type": "display_data"
    }
   ],
   "source": [
    "# Fill in the line below: get names of columns with missing values\n",
    " # Your code here\n",
    "cols_with_missing = [col for col in X_train.columns\n",
    "                     if X_train[col].isnull().any()]\n",
    "# Fill in the lines below: drop columns in training and validation data\n",
    "reduced_X_train =  X_train.drop(cols_with_missing, axis=1)\n",
    "reduced_X_valid = X_valid.drop(cols_with_missing, axis=1)\n",
    "\n",
    "# Check your answers\n",
    "step_2.check()"
   ]
  },
  {
   "cell_type": "code",
   "execution_count": 11,
   "id": "f3af29d5",
   "metadata": {
    "execution": {
     "iopub.execute_input": "2022-07-24T17:44:48.733424Z",
     "iopub.status.busy": "2022-07-24T17:44:48.732873Z",
     "iopub.status.idle": "2022-07-24T17:44:48.736421Z",
     "shell.execute_reply": "2022-07-24T17:44:48.735678Z"
    },
    "papermill": {
     "duration": 0.014342,
     "end_time": "2022-07-24T17:44:48.738151",
     "exception": false,
     "start_time": "2022-07-24T17:44:48.723809",
     "status": "completed"
    },
    "tags": []
   },
   "outputs": [],
   "source": [
    "# Lines below will give you a hint or solution code\n",
    "#step_2.hint()\n",
    "#step_2.solution()"
   ]
  },
  {
   "cell_type": "markdown",
   "id": "a23a24c3",
   "metadata": {
    "papermill": {
     "duration": 0.00763,
     "end_time": "2022-07-24T17:44:48.753734",
     "exception": false,
     "start_time": "2022-07-24T17:44:48.746104",
     "status": "completed"
    },
    "tags": []
   },
   "source": [
    "Run the next code cell without changes to obtain the MAE for this approach."
   ]
  },
  {
   "cell_type": "code",
   "execution_count": 12,
   "id": "22ddfe1a",
   "metadata": {
    "execution": {
     "iopub.execute_input": "2022-07-24T17:44:48.771267Z",
     "iopub.status.busy": "2022-07-24T17:44:48.770844Z",
     "iopub.status.idle": "2022-07-24T17:44:49.840233Z",
     "shell.execute_reply": "2022-07-24T17:44:49.838629Z"
    },
    "papermill": {
     "duration": 1.081285,
     "end_time": "2022-07-24T17:44:49.842928",
     "exception": false,
     "start_time": "2022-07-24T17:44:48.761643",
     "status": "completed"
    },
    "tags": []
   },
   "outputs": [
    {
     "name": "stdout",
     "output_type": "stream",
     "text": [
      "MAE (Drop columns with missing values):\n",
      "17837.82570776256\n"
     ]
    }
   ],
   "source": [
    "print(\"MAE (Drop columns with missing values):\")\n",
    "print(score_dataset(reduced_X_train, reduced_X_valid, y_train, y_valid))"
   ]
  },
  {
   "cell_type": "markdown",
   "id": "87811a8d",
   "metadata": {
    "papermill": {
     "duration": 0.008036,
     "end_time": "2022-07-24T17:44:49.859379",
     "exception": false,
     "start_time": "2022-07-24T17:44:49.851343",
     "status": "completed"
    },
    "tags": []
   },
   "source": [
    "# Step 3: Imputation\n",
    "\n",
    "### Part A\n",
    "\n",
    "Use the next code cell to impute missing values with the mean value along each column.  Set the preprocessed DataFrames to `imputed_X_train` and `imputed_X_valid`.  Make sure that the column names match those in `X_train` and `X_valid`."
   ]
  },
  {
   "cell_type": "code",
   "execution_count": 13,
   "id": "907afb27",
   "metadata": {
    "execution": {
     "iopub.execute_input": "2022-07-24T17:44:49.878132Z",
     "iopub.status.busy": "2022-07-24T17:44:49.877456Z",
     "iopub.status.idle": "2022-07-24T17:44:49.910960Z",
     "shell.execute_reply": "2022-07-24T17:44:49.909798Z"
    },
    "papermill": {
     "duration": 0.045281,
     "end_time": "2022-07-24T17:44:49.913287",
     "exception": false,
     "start_time": "2022-07-24T17:44:49.868006",
     "status": "completed"
    },
    "tags": []
   },
   "outputs": [
    {
     "data": {
      "application/javascript": [
       "parent.postMessage({\"jupyterEvent\": \"custom.exercise_interaction\", \"data\": {\"outcomeType\": 1, \"valueTowardsCompletion\": 1.0, \"interactionType\": 1, \"questionType\": 2, \"questionId\": \"3.1_ImputeCode\", \"learnToolsVersion\": \"0.3.4\", \"failureMessage\": \"\", \"exceptionClass\": \"\", \"trace\": \"\"}}, \"*\")"
      ],
      "text/plain": [
       "<IPython.core.display.Javascript object>"
      ]
     },
     "metadata": {},
     "output_type": "display_data"
    },
    {
     "data": {
      "text/markdown": [
       "<span style=\"color:#33cc33\">Correct</span>"
      ],
      "text/plain": [
       "Correct"
      ]
     },
     "metadata": {},
     "output_type": "display_data"
    }
   ],
   "source": [
    "from sklearn.impute import SimpleImputer\n",
    "\n",
    "# Fill in the lines below: imputation\n",
    " # Your code here\n",
    "my_imputer = SimpleImputer()\n",
    "imputed_X_train = pd.DataFrame(my_imputer.fit_transform(X_train))\n",
    "imputed_X_valid =  pd.DataFrame(my_imputer.transform(X_valid))\n",
    "\n",
    "\n",
    "# Fill in the lines below: imputation removed column names; put them back\n",
    "imputed_X_train.columns =  X_train.columns\n",
    "imputed_X_valid.columns =  X_valid.columns\n",
    "\n",
    "# Check your answers\n",
    "step_3.a.check()"
   ]
  },
  {
   "cell_type": "code",
   "execution_count": 14,
   "id": "229d50fb",
   "metadata": {
    "execution": {
     "iopub.execute_input": "2022-07-24T17:44:49.932274Z",
     "iopub.status.busy": "2022-07-24T17:44:49.931477Z",
     "iopub.status.idle": "2022-07-24T17:44:49.935838Z",
     "shell.execute_reply": "2022-07-24T17:44:49.934682Z"
    },
    "papermill": {
     "duration": 0.016352,
     "end_time": "2022-07-24T17:44:49.938016",
     "exception": false,
     "start_time": "2022-07-24T17:44:49.921664",
     "status": "completed"
    },
    "tags": []
   },
   "outputs": [],
   "source": [
    "# Lines below will give you a hint or solution code\n",
    "#step_3.a.hint()\n",
    "#step_3.a.solution()"
   ]
  },
  {
   "cell_type": "markdown",
   "id": "1f5d3891",
   "metadata": {
    "papermill": {
     "duration": 0.007975,
     "end_time": "2022-07-24T17:44:49.954309",
     "exception": false,
     "start_time": "2022-07-24T17:44:49.946334",
     "status": "completed"
    },
    "tags": []
   },
   "source": [
    "Run the next code cell without changes to obtain the MAE for this approach."
   ]
  },
  {
   "cell_type": "code",
   "execution_count": 15,
   "id": "c60c2cb4",
   "metadata": {
    "execution": {
     "iopub.execute_input": "2022-07-24T17:44:49.973241Z",
     "iopub.status.busy": "2022-07-24T17:44:49.972814Z",
     "iopub.status.idle": "2022-07-24T17:44:51.155024Z",
     "shell.execute_reply": "2022-07-24T17:44:51.153549Z"
    },
    "papermill": {
     "duration": 1.195754,
     "end_time": "2022-07-24T17:44:51.158599",
     "exception": false,
     "start_time": "2022-07-24T17:44:49.962845",
     "status": "completed"
    },
    "tags": []
   },
   "outputs": [
    {
     "name": "stdout",
     "output_type": "stream",
     "text": [
      "MAE (Imputation):\n",
      "18062.894611872147\n"
     ]
    }
   ],
   "source": [
    "print(\"MAE (Imputation):\")\n",
    "print(score_dataset(imputed_X_train, imputed_X_valid, y_train, y_valid))"
   ]
  },
  {
   "cell_type": "markdown",
   "id": "63bee63e",
   "metadata": {
    "papermill": {
     "duration": 0.008061,
     "end_time": "2022-07-24T17:44:51.175861",
     "exception": false,
     "start_time": "2022-07-24T17:44:51.167800",
     "status": "completed"
    },
    "tags": []
   },
   "source": [
    "### Part B\n",
    "\n",
    "Compare the MAE from each approach.  Does anything surprise you about the results?  Why do you think one approach performed better than the other?"
   ]
  },
  {
   "cell_type": "code",
   "execution_count": 16,
   "id": "3e1ab271",
   "metadata": {
    "execution": {
     "iopub.execute_input": "2022-07-24T17:44:51.194367Z",
     "iopub.status.busy": "2022-07-24T17:44:51.193949Z",
     "iopub.status.idle": "2022-07-24T17:44:51.202139Z",
     "shell.execute_reply": "2022-07-24T17:44:51.200904Z"
    },
    "papermill": {
     "duration": 0.019789,
     "end_time": "2022-07-24T17:44:51.204197",
     "exception": false,
     "start_time": "2022-07-24T17:44:51.184408",
     "status": "completed"
    },
    "tags": []
   },
   "outputs": [
    {
     "data": {
      "application/javascript": [
       "parent.postMessage({\"jupyterEvent\": \"custom.exercise_interaction\", \"data\": {\"outcomeType\": 1, \"valueTowardsCompletion\": 1.0, \"interactionType\": 1, \"questionType\": 4, \"questionId\": \"3.2_ImputeThought\", \"learnToolsVersion\": \"0.3.4\", \"failureMessage\": \"\", \"exceptionClass\": \"\", \"trace\": \"\"}}, \"*\")"
      ],
      "text/plain": [
       "<IPython.core.display.Javascript object>"
      ]
     },
     "metadata": {},
     "output_type": "display_data"
    },
    {
     "data": {
      "text/markdown": [
       "<span style=\"color:#33cc33\">Correct:</span> \n",
       "\n",
       "Given that thre are so few missing values in the dataset, we'd expect imputation to perform better than dropping columns entirely.  However, we see that dropping columns performs slightly better!  While this can probably partially be attributed to noise in the dataset, another potential explanation is that the imputation method is not a great match to this dataset.  That is, maybe instead of filling in the mean value, it makes more sense to set every missing value to a value of 0, to fill in the most frequently encountered value, or to use some other method.  For instance, consider the `GarageYrBlt` column (which indicates the year that the garage was built).  It's likely that in some cases, a missing value could indicate a house that does not have a garage.  Does it make more sense to fill in the median value along each column in this case?  Or could we get better results by filling in the minimum value along each column?  It's not quite clear what's best in this case, but perhaps we can rule out some options immediately - for instance, setting missing values in this column to 0 is likely to yield horrible results!"
      ],
      "text/plain": [
       "Correct: \n",
       "\n",
       "Given that thre are so few missing values in the dataset, we'd expect imputation to perform better than dropping columns entirely.  However, we see that dropping columns performs slightly better!  While this can probably partially be attributed to noise in the dataset, another potential explanation is that the imputation method is not a great match to this dataset.  That is, maybe instead of filling in the mean value, it makes more sense to set every missing value to a value of 0, to fill in the most frequently encountered value, or to use some other method.  For instance, consider the `GarageYrBlt` column (which indicates the year that the garage was built).  It's likely that in some cases, a missing value could indicate a house that does not have a garage.  Does it make more sense to fill in the median value along each column in this case?  Or could we get better results by filling in the minimum value along each column?  It's not quite clear what's best in this case, but perhaps we can rule out some options immediately - for instance, setting missing values in this column to 0 is likely to yield horrible results!"
      ]
     },
     "metadata": {},
     "output_type": "display_data"
    }
   ],
   "source": [
    "# Check your answer (Run this code cell to receive credit!)\n",
    "step_3.b.check()"
   ]
  },
  {
   "cell_type": "code",
   "execution_count": 17,
   "id": "4231f6f1",
   "metadata": {
    "execution": {
     "iopub.execute_input": "2022-07-24T17:44:51.223768Z",
     "iopub.status.busy": "2022-07-24T17:44:51.222947Z",
     "iopub.status.idle": "2022-07-24T17:44:51.227682Z",
     "shell.execute_reply": "2022-07-24T17:44:51.226880Z"
    },
    "papermill": {
     "duration": 0.016677,
     "end_time": "2022-07-24T17:44:51.229807",
     "exception": false,
     "start_time": "2022-07-24T17:44:51.213130",
     "status": "completed"
    },
    "tags": []
   },
   "outputs": [],
   "source": [
    "#step_3.b.hint()"
   ]
  },
  {
   "cell_type": "markdown",
   "id": "c87c138c",
   "metadata": {
    "papermill": {
     "duration": 0.00848,
     "end_time": "2022-07-24T17:44:51.247703",
     "exception": false,
     "start_time": "2022-07-24T17:44:51.239223",
     "status": "completed"
    },
    "tags": []
   },
   "source": [
    "# Step 4: Generate test predictions\n",
    "\n",
    "In this final step, you'll use any approach of your choosing to deal with missing values.  Once you've preprocessed the training and validation features, you'll train and evaluate a random forest model.  Then, you'll preprocess the test data before generating predictions that can be submitted to the competition!\n",
    "\n",
    "### Part A\n",
    "\n",
    "Use the next code cell to preprocess the training and validation data.  Set the preprocessed DataFrames to `final_X_train` and `final_X_valid`.  **You can use any approach of your choosing here!**  in order for this step to be marked as correct, you need only ensure:\n",
    "- the preprocessed DataFrames have the same number of columns,\n",
    "- the preprocessed DataFrames have no missing values, \n",
    "- `final_X_train` and `y_train` have the same number of rows, and\n",
    "- `final_X_valid` and `y_valid` have the same number of rows."
   ]
  },
  {
   "cell_type": "code",
   "execution_count": 18,
   "id": "d60500f0",
   "metadata": {
    "execution": {
     "iopub.execute_input": "2022-07-24T17:44:51.267073Z",
     "iopub.status.busy": "2022-07-24T17:44:51.266370Z",
     "iopub.status.idle": "2022-07-24T17:44:51.297268Z",
     "shell.execute_reply": "2022-07-24T17:44:51.296449Z"
    },
    "papermill": {
     "duration": 0.042906,
     "end_time": "2022-07-24T17:44:51.299282",
     "exception": false,
     "start_time": "2022-07-24T17:44:51.256376",
     "status": "completed"
    },
    "tags": []
   },
   "outputs": [
    {
     "data": {
      "application/javascript": [
       "parent.postMessage({\"jupyterEvent\": \"custom.exercise_interaction\", \"data\": {\"outcomeType\": 1, \"valueTowardsCompletion\": 1.0, \"interactionType\": 1, \"questionType\": 2, \"questionId\": \"4.1_PredsCodeA\", \"learnToolsVersion\": \"0.3.4\", \"failureMessage\": \"\", \"exceptionClass\": \"\", \"trace\": \"\"}}, \"*\")"
      ],
      "text/plain": [
       "<IPython.core.display.Javascript object>"
      ]
     },
     "metadata": {},
     "output_type": "display_data"
    },
    {
     "data": {
      "text/markdown": [
       "<span style=\"color:#33cc33\">Correct</span>"
      ],
      "text/plain": [
       "Correct"
      ]
     },
     "metadata": {},
     "output_type": "display_data"
    }
   ],
   "source": [
    "# Preprocessed training and validation features\n",
    "final_imputer = SimpleImputer(strategy='median')\n",
    "final_X_train = pd.DataFrame(final_imputer.fit_transform(X_train))\n",
    "final_X_valid = pd.DataFrame(final_imputer.transform(X_valid))\n",
    "\n",
    "# Imputation removed column names; put them back\n",
    "final_X_train.columns = X_train.columns\n",
    "final_X_valid.columns = X_valid.columns\n",
    "\n",
    "# Check your answers\n",
    "step_4.a.check()"
   ]
  },
  {
   "cell_type": "code",
   "execution_count": 19,
   "id": "6881ed9d",
   "metadata": {
    "execution": {
     "iopub.execute_input": "2022-07-24T17:44:51.320047Z",
     "iopub.status.busy": "2022-07-24T17:44:51.319018Z",
     "iopub.status.idle": "2022-07-24T17:44:51.322868Z",
     "shell.execute_reply": "2022-07-24T17:44:51.322162Z"
    },
    "papermill": {
     "duration": 0.016312,
     "end_time": "2022-07-24T17:44:51.324805",
     "exception": false,
     "start_time": "2022-07-24T17:44:51.308493",
     "status": "completed"
    },
    "tags": []
   },
   "outputs": [],
   "source": [
    "# Lines below will give you a hint or solution code\n",
    "#step_4.a.hint()\n",
    "#step_4.a.solution()"
   ]
  },
  {
   "cell_type": "markdown",
   "id": "f5e1ca70",
   "metadata": {
    "papermill": {
     "duration": 0.0087,
     "end_time": "2022-07-24T17:44:51.342696",
     "exception": false,
     "start_time": "2022-07-24T17:44:51.333996",
     "status": "completed"
    },
    "tags": []
   },
   "source": [
    "Run the next code cell to train and evaluate a random forest model.  (*Note that we don't use the `score_dataset()` function above, because we will soon use the trained model to generate test predictions!*)"
   ]
  },
  {
   "cell_type": "code",
   "execution_count": 20,
   "id": "86cebf44",
   "metadata": {
    "execution": {
     "iopub.execute_input": "2022-07-24T17:44:51.362817Z",
     "iopub.status.busy": "2022-07-24T17:44:51.362142Z",
     "iopub.status.idle": "2022-07-24T17:44:52.545763Z",
     "shell.execute_reply": "2022-07-24T17:44:52.544542Z"
    },
    "papermill": {
     "duration": 1.196511,
     "end_time": "2022-07-24T17:44:52.548315",
     "exception": false,
     "start_time": "2022-07-24T17:44:51.351804",
     "status": "completed"
    },
    "tags": []
   },
   "outputs": [
    {
     "name": "stdout",
     "output_type": "stream",
     "text": [
      "MAE (Your approach):\n",
      "17791.59899543379\n"
     ]
    }
   ],
   "source": [
    "# Define and fit model\n",
    "model = RandomForestRegressor(n_estimators=100, random_state=0)\n",
    "model.fit(final_X_train, y_train)\n",
    "\n",
    "# Get validation predictions and MAE\n",
    "preds_valid = model.predict(final_X_valid)\n",
    "print(\"MAE (Your approach):\")\n",
    "print(mean_absolute_error(y_valid, preds_valid))"
   ]
  },
  {
   "cell_type": "markdown",
   "id": "d653cee8",
   "metadata": {
    "papermill": {
     "duration": 0.009088,
     "end_time": "2022-07-24T17:44:52.566812",
     "exception": false,
     "start_time": "2022-07-24T17:44:52.557724",
     "status": "completed"
    },
    "tags": []
   },
   "source": [
    "### Part B\n",
    "\n",
    "Use the next code cell to preprocess your test data.  Make sure that you use a method that agrees with how you preprocessed the training and validation data, and set the preprocessed test features to `final_X_test`.\n",
    "\n",
    "Then, use the preprocessed test features and the trained model to generate test predictions in `preds_test`.\n",
    "\n",
    "In order for this step to be marked correct, you need only ensure:\n",
    "- the preprocessed test DataFrame has no missing values, and\n",
    "- `final_X_test` has the same number of rows as `X_test`."
   ]
  },
  {
   "cell_type": "code",
   "execution_count": 21,
   "id": "b8a8f96d",
   "metadata": {
    "execution": {
     "iopub.execute_input": "2022-07-24T17:44:52.587833Z",
     "iopub.status.busy": "2022-07-24T17:44:52.586583Z",
     "iopub.status.idle": "2022-07-24T17:44:52.644555Z",
     "shell.execute_reply": "2022-07-24T17:44:52.643048Z"
    },
    "papermill": {
     "duration": 0.070642,
     "end_time": "2022-07-24T17:44:52.646892",
     "exception": false,
     "start_time": "2022-07-24T17:44:52.576250",
     "status": "completed"
    },
    "tags": []
   },
   "outputs": [
    {
     "name": "stderr",
     "output_type": "stream",
     "text": [
      "/opt/conda/lib/python3.7/site-packages/sklearn/base.py:451: UserWarning: X does not have valid feature names, but RandomForestRegressor was fitted with feature names\n",
      "  \"X does not have valid feature names, but\"\n"
     ]
    },
    {
     "data": {
      "application/javascript": [
       "parent.postMessage({\"jupyterEvent\": \"custom.exercise_interaction\", \"data\": {\"outcomeType\": 1, \"valueTowardsCompletion\": 1.0, \"interactionType\": 1, \"questionType\": 2, \"questionId\": \"4.2_PredsCodeB\", \"learnToolsVersion\": \"0.3.4\", \"failureMessage\": \"\", \"exceptionClass\": \"\", \"trace\": \"\"}}, \"*\")"
      ],
      "text/plain": [
       "<IPython.core.display.Javascript object>"
      ]
     },
     "metadata": {},
     "output_type": "display_data"
    },
    {
     "data": {
      "text/markdown": [
       "<span style=\"color:#33cc33\">Correct</span>"
      ],
      "text/plain": [
       "Correct"
      ]
     },
     "metadata": {},
     "output_type": "display_data"
    }
   ],
   "source": [
    "# Fill in the line below: preprocess test data\n",
    "final_X_test = pd.DataFrame(final_imputer.transform(X_test))\n",
    "\n",
    "# Fill in the line below: get test predictions\n",
    "preds_test = model.predict(final_X_test)\n",
    "\n",
    "step_4.b.check()"
   ]
  },
  {
   "cell_type": "code",
   "execution_count": 22,
   "id": "72ae2601",
   "metadata": {
    "execution": {
     "iopub.execute_input": "2022-07-24T17:44:52.667570Z",
     "iopub.status.busy": "2022-07-24T17:44:52.667168Z",
     "iopub.status.idle": "2022-07-24T17:44:52.671331Z",
     "shell.execute_reply": "2022-07-24T17:44:52.670276Z"
    },
    "papermill": {
     "duration": 0.01658,
     "end_time": "2022-07-24T17:44:52.673306",
     "exception": false,
     "start_time": "2022-07-24T17:44:52.656726",
     "status": "completed"
    },
    "tags": []
   },
   "outputs": [],
   "source": [
    "# Lines below will give you a hint or solution code\n",
    "#step_4.b.hint()\n",
    "#step_4.b.solution()"
   ]
  },
  {
   "cell_type": "markdown",
   "id": "4bc7b681",
   "metadata": {
    "papermill": {
     "duration": 0.009042,
     "end_time": "2022-07-24T17:44:52.691815",
     "exception": false,
     "start_time": "2022-07-24T17:44:52.682773",
     "status": "completed"
    },
    "tags": []
   },
   "source": [
    "Run the next code cell without changes to save your results to a CSV file that can be submitted directly to the competition."
   ]
  },
  {
   "cell_type": "code",
   "execution_count": 23,
   "id": "b7977a65",
   "metadata": {
    "execution": {
     "iopub.execute_input": "2022-07-24T17:44:52.712773Z",
     "iopub.status.busy": "2022-07-24T17:44:52.711848Z",
     "iopub.status.idle": "2022-07-24T17:44:52.723222Z",
     "shell.execute_reply": "2022-07-24T17:44:52.722368Z"
    },
    "papermill": {
     "duration": 0.023973,
     "end_time": "2022-07-24T17:44:52.725468",
     "exception": false,
     "start_time": "2022-07-24T17:44:52.701495",
     "status": "completed"
    },
    "tags": []
   },
   "outputs": [],
   "source": [
    "# Save test predictions to file\n",
    "output = pd.DataFrame({'Id': X_test.index,\n",
    "                       'SalePrice': preds_test})\n",
    "output.to_csv('submission.csv', index=False)"
   ]
  },
  {
   "cell_type": "markdown",
   "id": "03202d2a",
   "metadata": {
    "papermill": {
     "duration": 0.00897,
     "end_time": "2022-07-24T17:44:52.743862",
     "exception": false,
     "start_time": "2022-07-24T17:44:52.734892",
     "status": "completed"
    },
    "tags": []
   },
   "source": [
    "# Submit your results\n",
    "\n",
    "Once you have successfully completed Step 4, you're ready to submit your results to the leaderboard!  (_You also learned how to do this in the previous exercise.  If you need a reminder of how to do this, please use the instructions below._)  \n",
    "\n",
    "First, you'll need to join the competition if you haven't already.  So open a new window by clicking on [this link](https://www.kaggle.com/c/home-data-for-ml-course).  Then click on the **Join Competition** button.\n",
    "\n",
    "![join competition image](https://i.imgur.com/wLmFtH3.png)\n",
    "\n",
    "Next, follow the instructions below:\n",
    "1. Begin by clicking on the **Save Version** button in the top right corner of the window.  This will generate a pop-up window.  \n",
    "2. Ensure that the **Save and Run All** option is selected, and then click on the **Save** button.\n",
    "3. This generates a window in the bottom left corner of the notebook.  After it has finished running, click on the number to the right of the **Save Version** button.  This pulls up a list of versions on the right of the screen.  Click on the ellipsis **(...)** to the right of the most recent version, and select **Open in Viewer**.  This brings you into view mode of the same page. You will need to scroll down to get back to these instructions.\n",
    "4. Click on the **Output** tab on the right of the screen.  Then, click on the file you would like to submit, and click on the **Submit** button to submit your results to the leaderboard.\n",
    "\n",
    "You have now successfully submitted to the competition!\n",
    "\n",
    "If you want to keep working to improve your performance, select the **Edit** button in the top right of the screen. Then you can change your code and repeat the process. There's a lot of room to improve, and you will climb up the leaderboard as you work.\n",
    "\n",
    "\n",
    "# Keep going\n",
    "\n",
    "Move on to learn what **[categorical variables](https://www.kaggle.com/alexisbcook/categorical-variables)** are, along with how to incorporate them into your machine learning models.  Categorical variables are very common in real-world data, but you'll get an error if you try to plug them into your models without processing them first!"
   ]
  },
  {
   "cell_type": "markdown",
   "id": "02cfdce5",
   "metadata": {
    "papermill": {
     "duration": 0.008891,
     "end_time": "2022-07-24T17:44:52.762025",
     "exception": false,
     "start_time": "2022-07-24T17:44:52.753134",
     "status": "completed"
    },
    "tags": []
   },
   "source": [
    "---\n",
    "\n",
    "\n",
    "\n",
    "\n",
    "*Have questions or comments? Visit the [course discussion forum](https://www.kaggle.com/learn/intermediate-machine-learning/discussion) to chat with other learners.*"
   ]
  }
 ],
 "metadata": {
  "kernelspec": {
   "display_name": "Python 3",
   "language": "python",
   "name": "python3"
  },
  "language_info": {
   "codemirror_mode": {
    "name": "ipython",
    "version": 3
   },
   "file_extension": ".py",
   "mimetype": "text/x-python",
   "name": "python",
   "nbconvert_exporter": "python",
   "pygments_lexer": "ipython3",
   "version": "3.7.12"
  },
  "papermill": {
   "default_parameters": {},
   "duration": 15.310607,
   "end_time": "2022-07-24T17:44:53.492382",
   "environment_variables": {},
   "exception": null,
   "input_path": "__notebook__.ipynb",
   "output_path": "__notebook__.ipynb",
   "parameters": {},
   "start_time": "2022-07-24T17:44:38.181775",
   "version": "2.3.4"
  }
 },
 "nbformat": 4,
 "nbformat_minor": 5
}
